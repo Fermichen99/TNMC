{
 "cells": [
  {
   "cell_type": "markdown",
   "metadata": {},
   "source": [
    "# Tensor Network Monte Carlo\n",
    "Tensor Network Monte Carlo (TNMC) method generates biased samples from conditional probabilities computed via tensor network contractions and corrects the bias using the Metropolis scheme. Consequently, the proposals provided by tensor networks function as block updates for Monte Carlo simulations."
   ]
  },
  {
   "cell_type": "markdown",
   "metadata": {},
   "source": [
    "### Construct tensor network\n",
    "First, we construct the tensor network for the simple Ising model.\n",
    "\n",
    "![alt text](tensor-network.png)"
   ]
  },
  {
   "cell_type": "code",
   "execution_count": 134,
   "metadata": {},
   "outputs": [
    {
     "data": {
      "text/plain": [
       "OutTensorGrid (generic function with 1 method)"
      ]
     },
     "execution_count": 134,
     "metadata": {},
     "output_type": "execute_result"
    }
   ],
   "source": [
    "using LinearAlgebra:svd, Diagonal, qr, norm\n",
    "using TensorOperations\n",
    "using OMEinsum\n",
    "\n",
    "struct Parament\n",
    "    L::Int\n",
    "    chi::Int\n",
    "    Beta::Float64\n",
    "    Barray::Array{Float64, 2}\n",
    "    I2::Array{Float64, 2}\n",
    "    I3::Array{Float64, 3}\n",
    "    I4::Array{Float64, 4}\n",
    "    function Parament(L, chi, T)\n",
    "        Beta = 1.0/T\n",
    "        Barray = exp.(Beta * [1.0 -1.0; -1.0 1.0])\n",
    "        I1 = vec([1.0 1.0])\n",
    "        I2 = zeros(2, 2)\n",
    "        I3 = zeros(2, 2, 2)\n",
    "        I4 = zeros(2, 2, 2, 2)\n",
    "        for i in 1:2\n",
    "            I2[i ,i] = 1.0\n",
    "            I3[i, i, i] = 1.0\n",
    "            I4[i, i, i, i] = 1.0\n",
    "        end\n",
    "        new(L, chi, Beta, Barray, I2, I3, I4)\n",
    "    end\n",
    "end\n",
    "\n",
    "mutable struct Spin\n",
    "    Dx::Vector{Int}\n",
    "    Dy::Vector{Int}\n",
    "    bond::Array{Int, 3}\n",
    "\n",
    "    function Spin(pa::Parament)\n",
    "        Dx=[-1,0,1,0]\n",
    "        Dy=[0,1,0,-1]\n",
    "        bond = zeros(Int, pa.L, pa.L, 4)\n",
    "        for y in 1:pa.L, x in 1:pa.L\n",
    "            for k in 1:2\n",
    "                jx,jy=x+Dx[k],y+Dy[k]\n",
    "                if 0<jx<=pa.L && 0<jy<=pa.L \n",
    "                    bond[y,x,k] = 1\n",
    "                    bond[jy,jx,k+2] = 1\n",
    "                end\n",
    "            end\n",
    "        end\n",
    "        new(Dx, Dy, bond)\n",
    "    end\n",
    "end\n",
    "\n",
    "\n",
    "mutable struct Tensor\n",
    "    Tensor::Array{Any,2}\n",
    "end\n",
    "\n",
    "function GetBond(sp::Spin, nnb::Int, y::Int, x::Int)\n",
    "    return sp.bond[y, x, nnb] == 0 ? reshape([1], 1, 1) : pa.Barray\n",
    "end\n",
    "\n",
    "function Single(pa::Parament, sp::Spin, y::Int, x::Int, spin::Int)\n",
    "    if y == 1 || y == pa.L\n",
    "        if x == 1\n",
    "            A = copy(reshape(pa.I2, 1, 2, 2))\n",
    "        elseif x == pa.L\n",
    "            A = copy(reshape(pa.I2, 2, 1, 2))  \n",
    "        else  \n",
    "            A = copy(pa.I3) \n",
    "        end\n",
    "    else         \n",
    "        if x == 1\n",
    "            A = copy(reshape(pa.I3, 1, 2, 2, 2))  \n",
    "        elseif x == pa.L\n",
    "            A = copy(reshape(pa.I3, 2, 1, 2, 2))  \n",
    "        else  \n",
    "            A = copy(pa.I4)  \n",
    "        end\n",
    "    end\n",
    "    indices = findall(x -> x == 1, A) \n",
    "    if spin==1  A[indices[1]] = 0 elseif spin==-1 A[indices[2]] = 0 end\n",
    "    if y == pa.L\n",
    "        A = ein\"ijk,lj->ilk\"(A, GetBond(sp, 3, y, x))\n",
    "    elseif y == 1\n",
    "        A = ein\"ijk,lj,ka->ila\"(A, GetBond(sp, 3, y, x),\n",
    "        GetBond(sp, 2, y, x))         \n",
    "    else\n",
    "        A = ein\"ijkl,nj,ka->inal\"(A, GetBond(sp, 3, y, x),\n",
    "        GetBond(sp, 2, y, x))  \n",
    "    end   \n",
    "    return A\n",
    "end\n",
    "\n",
    "function OutTensorGrid(pa::Parament, sp::Spin, te::Tensor)\n",
    "    for y in 1:pa.L, x in 1:pa.L\n",
    "        te.Tensor[y,x] = Single(pa, sp, y, x, 0)\n",
    "    end\n",
    "end         \n"
   ]
  },
  {
   "cell_type": "markdown",
   "metadata": {},
   "source": [
    "## Contraction the tensor network\n",
    "Here we just contract the whole tensor network to get the partation function Z without store the process tensors.\n",
    "\n",
    "![alt text](contraction.png)"
   ]
  },
  {
   "cell_type": "code",
   "execution_count": 135,
   "metadata": {},
   "outputs": [
    {
     "data": {
      "text/plain": [
       "Compress (generic function with 1 method)"
      ]
     },
     "execution_count": 135,
     "metadata": {},
     "output_type": "execute_result"
    }
   ],
   "source": [
    "function ContractlnZ(pa::Parament,te::Tensor)\n",
    "    lnZ=0\n",
    "    mps = Array{Any,1}(undef, pa.L)\n",
    "    mps = deepcopy(te.Tensor[pa.L,:])\n",
    "    for y in pa.L:-1:3\n",
    "        res,mps = Compress(Eat(mps ,te.Tensor[y-1,:]),pa.chi)\n",
    "        lnZ += res\n",
    "    end\n",
    "    res = Contruction(pa,te,te.Tensor[1,:],mps)\n",
    "    lnZ += res\n",
    "    return lnZ\n",
    "end\n",
    "\n",
    "function Contruction(pa::Parament, te::Tensor, MpsUp::Array{T}, MpsDw::Array{S}) where {T,S}\n",
    "    lnZ = 0\n",
    "    len = length(MpsUp)\n",
    "    mps = Array{Any,1}(undef, len)\n",
    "    mps[len] = ein\"ikj,abj->iakb\"(MpsUp[len],MpsDw[len])\n",
    "    tnorm = norm(mps[pa.L])\n",
    "    mps[pa.L] /= tnorm\n",
    "    lnZ += log(tnorm)\n",
    "    for i in pa.L:-1:2\n",
    "        mps[i-1] =  ein\"abij,nak,lbk->nlij\"(mps[i],MpsUp[i-1],MpsDw[i-1])\n",
    "        tnorm = norm(mps[i-1])\n",
    "        mps[i-1] /= tnorm\n",
    "        lnZ += log(tnorm)\n",
    "    end\n",
    "    return lnZ\n",
    "end\n",
    "\n",
    "function Eat(mps::Array{S},mpo::Array{O}) where {S,O}\n",
    "    return [reshape(ein\"ikj,abjc->aibkc\"(mps[i],mpo[i]),size(mps[i],1)*size(mpo[i],1),:,2) for i in 1:length(mps)]\n",
    "end\n",
    "\n",
    "function Compress(mps::Array{T,S},chi::Int) where {T,S}\n",
    "    residual=0\n",
    "    len=length(mps)\n",
    "    for i in 1:len \n",
    "        mps[i]=permutedims(mps[i],(1,3,2))\n",
    "    end\n",
    "    for i in 1:len-1\n",
    "        F=qr(reshape(mps[i],size(mps[i],1)*2,:))\n",
    "        Q=Matrix(F.Q)\n",
    "        mps[i] = reshape(Q,size(mps[i],1),2,:)\n",
    "        mps[i+1] = reshape(ein\"ij,jab->iab\"(F.R,mps[i+1]), size(F.R,1), 2, size(mps[i+1],3))  \n",
    "        if mod(i,20) == 0\n",
    "            tnorm = norm(mps[i+1])\n",
    "            mps[i+1] /= tnorm\n",
    "            residual += log(tnorm)\n",
    "        end\n",
    "    end   \n",
    "    for i in len:-1:2\n",
    "        F=svd(reshape(ein\"ijk,kab->ijab\"(mps[i-1],mps[i]), size(mps[i-1],1)*2,size(mps[i],3)*2))     \n",
    "        if size(F.S,1)>chi\n",
    "            Vt=F.Vt[1:chi,:]; U=F.U[:,1:chi]\n",
    "            mps[i]=reshape(Vt, : , 2, size(mps[i],3))\n",
    "            mps[i-1]=reshape(U*Diagonal(F.S[1:chi]), size(mps[i-1],1),2,:)\n",
    "        else \n",
    "            mps[i]=reshape(F.Vt, :, 2, size(mps[i],3)) \n",
    "            mps[i-1]=reshape(F.U*Diagonal(F.S), size(mps[i-1],1),2,:)            \n",
    "        end   \n",
    "    end       \n",
    "    tnorm=norm(mps[1])\n",
    "    mps[1] /= tnorm\n",
    "    residual += log(tnorm)\n",
    "    for i in 1:len\n",
    "        mps[i]=permutedims(mps[i],(1,3,2))\n",
    "    end\n",
    "    return residual,mps\n",
    "end"
   ]
  },
  {
   "cell_type": "markdown",
   "metadata": {},
   "source": [
    "## Sampling spins\n",
    "\n",
    "$$P(s_i|\\mathbf{s_{<i}})=\\frac{\\sum_{\\mathbf{s_{>i}}}e^{-\\beta E(s_i,\\mathbf{s_{<i}})}}{\\sum_{s_i,\\mathbf{s_{>i}}}e^{-\\beta E(s_i,\\mathbf{s_{<i}})}}=\\frac{Z(s_i,\\mathbf{s_{<i}})}{\\sum_{s_i}Z(s_i,\\mathbf{s_{<i}})}.$$"
   ]
  },
  {
   "cell_type": "code",
   "execution_count": 136,
   "metadata": {},
   "outputs": [
    {
     "data": {
      "text/plain": [
       "TNMH (generic function with 1 method)"
      ]
     },
     "execution_count": 136,
     "metadata": {},
     "output_type": "execute_result"
    }
   ],
   "source": [
    "function TNMH(pa::Parament, sp::Spin, te::Tensor)\n",
    "    spin = zeros(Int, pa.L, pa.L)\n",
    "    lnpr = 0; lnZq = zeros(2); lnZU = zeros(2)\n",
    "    for y in 1:pa.L\n",
    "        for x in 1:pa.L\n",
    "            tensorup = Single(pa,sp,y,x,1)\n",
    "            te.Tensor[y,x] .= tensorup\n",
    "            lnZu = ContractlnZ(pa,te)\n",
    "\n",
    "            tensordw = Single(pa,sp,y,x,-1)\n",
    "            te.Tensor[y,x] .= tensordw\n",
    "            lnZd = ContractlnZ(pa,te)\n",
    "            pi= 1.0/(1.0+exp(lnZd-lnZu))\n",
    "\n",
    "            if rand()<pi \n",
    "                spin[y,x]=1\n",
    "                te.Tensor[y,x] .= tensorup\n",
    "                lnpr += log(pi)\n",
    "            else\n",
    "                spin[y,x]=-1\n",
    "                lnpr += log(1-pi)\n",
    "            end\n",
    "        end\n",
    "    end\n",
    "    return spin,lnpr\n",
    "end"
   ]
  },
  {
   "cell_type": "markdown",
   "metadata": {},
   "source": [
    "## Markov Chain\n",
    "Giving a current configuration $\\mathbf{s}_a$, a candidate configuration $\\mathbf{s}_b$ is generated from a proposal distribution $g(\\mathbf{s}_b|\\mathbf{s}_a)$, and is accepted with probability \n",
    "$$ p_a(\\mathbf{s}_b|\\mathbf{s}_a)=\\min\\left\\{1,\\frac{g(\\mathbf{s}_a|\\mathbf{s}_b)}{g(\\mathbf{s}_b|\\mathbf{s}_a)}\\times\\frac{P(\\mathbf{s}_b)}{P(\\mathbf{s}_a)}\\right\\} $$\n",
    "which is called the Metropolis filter or the Metropolis acceptance-rejection scheme.  the acceptance rate of a configuration is exponential in its energy difference $$\\frac{P(\\mathbf{s}_b)}{P(\\mathbf{s}_a)}=e^{\\beta E(\\mathbf{s}_a)-\\beta E(\\mathbf{s}_b)},$$\n",
    "and the proposal distribution is independent $g(\\mathbf{s}_b|\\mathbf{s}_a)=g(\\mathbf{s}_b)$"
   ]
  },
  {
   "cell_type": "code",
   "execution_count": 141,
   "metadata": {},
   "outputs": [
    {
     "data": {
      "text/plain": [
       "Accept (generic function with 1 method)"
      ]
     },
     "execution_count": 141,
     "metadata": {},
     "output_type": "execute_result"
    }
   ],
   "source": [
    "function GetEnergy(pa::Parament,sp::Spin,spin::Array{Int, 2})\n",
    "    Energy = 0.0\n",
    "    for y in 1:pa.L, x in 1:pa.L\n",
    "        ns = spin[y, x]\n",
    "        Nei = 0\n",
    "        for k in 1:4\n",
    "            jy = mod1(y + sp.Dy[k], pa.L)\n",
    "            jx = mod1(x + sp.Dx[k], pa.L)\n",
    "            Nei += spin[jy, jx] * sp.bond[y, x, k]\n",
    "        end\n",
    "        Energy += -ns * Nei/2\n",
    "    end\n",
    "    return Energy\n",
    "end\n",
    "\n",
    "function Accept(pa::Parament,sp::Spin,spinold::Array{Int,2},spinnew::Array{Int,2},lnprold::Float64,lnprnew::Float64)\n",
    "    Energynew = GetEnergy(pa,sp,spinnew);  Energyold = GetEnergy(pa,sp,spinold)\n",
    "    deltaE = Energynew-Energyold\n",
    "    pi = exp(-pa.Beta*deltaE+lnprold-lnprnew)\n",
    "    @show pi\n",
    "    if pi>=1\n",
    "        spinnext  = spinnew\n",
    "        prnext= lnprnew\n",
    "    else\n",
    "        if rand()<pi\n",
    "            spinnext = spinnew\n",
    "            prnext = lnprnew\n",
    "        else\n",
    "            spinnext  = spinold\n",
    "            prnext= lnprold\n",
    "        end\n",
    "    end\n",
    "    return spinnext,prnext\n",
    "end "
   ]
  },
  {
   "cell_type": "code",
   "execution_count": 142,
   "metadata": {},
   "outputs": [
    {
     "name": "stdout",
     "output_type": "stream",
     "text": [
      "pi = 1.0046478268550647\n",
      "pi = 0.9951898656791484\n",
      "pi = 0.9993272400118214\n",
      "pi = 1.0034089583633357\n",
      "pi = 0.9965581726056333\n",
      "pi = 0.999951134856162\n",
      "pi = 0.9999999999999964\n",
      "pi = 1.000255021716589\n",
      "pi = 1.0000000000000018\n",
      "pi = 0.9997450433029073\n"
     ]
    }
   ],
   "source": [
    "L = 4; chi = 2; T = 2.2\n",
    "\n",
    "pa=Parament(L, chi, T)\n",
    "sp=Spin(pa)\n",
    "te=Tensor(Array{Any,2}(undef,pa.L,pa.L))\n",
    "\n",
    "spinold = zeros(Int, pa.L, pa.L); spinnew = zeros(Int, pa.L, pa.L)\n",
    "lnprold = 0.0; lnprnew = 0.0\n",
    "OutTensorGrid(pa,sp,te)\n",
    "spinold[:,:],lnprold=TNMH(pa,sp,te)   \n",
    "for i in 1:10\n",
    "    OutTensorGrid(pa,sp,te)\n",
    "    spinnew[:,:],lnprnew=TNMH(pa,sp,te)                      \n",
    "    spinold[:,:],lnprold=Accept(pa,sp,spinold[:,:],spinnew[:,:],lnprold,lnprnew)  \n",
    "end\n",
    "\n"
   ]
  }
 ],
 "metadata": {
  "kernelspec": {
   "display_name": "Julia 1.10.2",
   "language": "julia",
   "name": "julia-1.10"
  },
  "language_info": {
   "file_extension": ".jl",
   "mimetype": "application/julia",
   "name": "julia",
   "version": "1.10.2"
  }
 },
 "nbformat": 4,
 "nbformat_minor": 2
}
